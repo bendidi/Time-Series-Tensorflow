{
 "cells": [
  {
   "cell_type": "code",
   "execution_count": 1,
   "metadata": {
    "collapsed": true
   },
   "outputs": [],
   "source": [
    "%matplotlib inline\n",
    "import pandas as pd\n",
    "import numpy as np\n",
    "import matplotlib.pyplot as plt\n",
    "import sys"
   ]
  },
  {
   "cell_type": "code",
   "execution_count": 13,
   "metadata": {
    "collapsed": true
   },
   "outputs": [],
   "source": [
    "df2 = pd.read_csv(\"v4.100K.csv\")"
   ]
  },
  {
   "cell_type": "code",
   "execution_count": 17,
   "metadata": {},
   "outputs": [
    {
     "data": {
      "text/html": [
       "<div>\n",
       "<table border=\"1\" class=\"dataframe\">\n",
       "  <thead>\n",
       "    <tr style=\"text-align: right;\">\n",
       "      <th></th>\n",
       "      <th>id</th>\n",
       "      <th>datetime</th>\n",
       "      <th>symbol</th>\n",
       "      <th>categ</th>\n",
       "      <th>val</th>\n",
       "      <th>ind0</th>\n",
       "      <th>ind1</th>\n",
       "      <th>ind2</th>\n",
       "      <th>ind3</th>\n",
       "      <th>ind4</th>\n",
       "      <th>...</th>\n",
       "      <th>ind241</th>\n",
       "      <th>ind242</th>\n",
       "      <th>ind243</th>\n",
       "      <th>ind244</th>\n",
       "      <th>ind245</th>\n",
       "      <th>ind246</th>\n",
       "      <th>ind247</th>\n",
       "      <th>ind248</th>\n",
       "      <th>ind249</th>\n",
       "      <th>ind250</th>\n",
       "    </tr>\n",
       "  </thead>\n",
       "  <tbody>\n",
       "    <tr>\n",
       "      <th>0</th>\n",
       "      <td>1</td>\n",
       "      <td>2016-01-04 00:00:00</td>\n",
       "      <td>18</td>\n",
       "      <td>H4</td>\n",
       "      <td>0.53169</td>\n",
       "      <td>0.53309</td>\n",
       "      <td>0.53083</td>\n",
       "      <td>0.5313</td>\n",
       "      <td>3.9</td>\n",
       "      <td>22.6</td>\n",
       "      <td>...</td>\n",
       "      <td>0</td>\n",
       "      <td>0</td>\n",
       "      <td>0</td>\n",
       "      <td>0</td>\n",
       "      <td>0</td>\n",
       "      <td>0</td>\n",
       "      <td>0</td>\n",
       "      <td>0</td>\n",
       "      <td>0</td>\n",
       "      <td>0</td>\n",
       "    </tr>\n",
       "    <tr>\n",
       "      <th>1</th>\n",
       "      <td>2</td>\n",
       "      <td>2016-01-04 00:00:00</td>\n",
       "      <td>18</td>\n",
       "      <td>D1</td>\n",
       "      <td>0.53715</td>\n",
       "      <td>0.54172</td>\n",
       "      <td>0.53083</td>\n",
       "      <td>0.5313</td>\n",
       "      <td>58.5</td>\n",
       "      <td>8.9</td>\n",
       "      <td>...</td>\n",
       "      <td>0</td>\n",
       "      <td>0</td>\n",
       "      <td>0</td>\n",
       "      <td>0</td>\n",
       "      <td>0</td>\n",
       "      <td>0</td>\n",
       "      <td>0</td>\n",
       "      <td>0</td>\n",
       "      <td>0</td>\n",
       "      <td>0</td>\n",
       "    </tr>\n",
       "    <tr>\n",
       "      <th>2</th>\n",
       "      <td>3</td>\n",
       "      <td>2016-01-04 01:00:00</td>\n",
       "      <td>18</td>\n",
       "      <td>M1</td>\n",
       "      <td>0.53304</td>\n",
       "      <td>0.53309</td>\n",
       "      <td>0.53116</td>\n",
       "      <td>0.5313</td>\n",
       "      <td>17.4</td>\n",
       "      <td>19.3</td>\n",
       "      <td>...</td>\n",
       "      <td>0</td>\n",
       "      <td>0</td>\n",
       "      <td>0</td>\n",
       "      <td>0</td>\n",
       "      <td>0</td>\n",
       "      <td>0</td>\n",
       "      <td>0</td>\n",
       "      <td>0</td>\n",
       "      <td>0</td>\n",
       "      <td>0</td>\n",
       "    </tr>\n",
       "    <tr>\n",
       "      <th>3</th>\n",
       "      <td>4</td>\n",
       "      <td>2016-01-04 01:00:00</td>\n",
       "      <td>18</td>\n",
       "      <td>M5</td>\n",
       "      <td>0.53244</td>\n",
       "      <td>0.53309</td>\n",
       "      <td>0.53116</td>\n",
       "      <td>0.5313</td>\n",
       "      <td>11.4</td>\n",
       "      <td>19.3</td>\n",
       "      <td>...</td>\n",
       "      <td>0</td>\n",
       "      <td>0</td>\n",
       "      <td>0</td>\n",
       "      <td>0</td>\n",
       "      <td>0</td>\n",
       "      <td>0</td>\n",
       "      <td>0</td>\n",
       "      <td>0</td>\n",
       "      <td>0</td>\n",
       "      <td>0</td>\n",
       "    </tr>\n",
       "    <tr>\n",
       "      <th>4</th>\n",
       "      <td>5</td>\n",
       "      <td>2016-01-04 01:00:00</td>\n",
       "      <td>18</td>\n",
       "      <td>M15</td>\n",
       "      <td>0.53209</td>\n",
       "      <td>0.53309</td>\n",
       "      <td>0.53116</td>\n",
       "      <td>0.5313</td>\n",
       "      <td>7.9</td>\n",
       "      <td>19.3</td>\n",
       "      <td>...</td>\n",
       "      <td>0</td>\n",
       "      <td>0</td>\n",
       "      <td>0</td>\n",
       "      <td>0</td>\n",
       "      <td>0</td>\n",
       "      <td>0</td>\n",
       "      <td>0</td>\n",
       "      <td>0</td>\n",
       "      <td>0</td>\n",
       "      <td>0</td>\n",
       "    </tr>\n",
       "  </tbody>\n",
       "</table>\n",
       "<p>5 rows × 256 columns</p>\n",
       "</div>"
      ],
      "text/plain": [
       "   id             datetime  symbol categ      val     ind0     ind1    ind2  \\\n",
       "0   1  2016-01-04 00:00:00      18    H4  0.53169  0.53309  0.53083  0.5313   \n",
       "1   2  2016-01-04 00:00:00      18    D1  0.53715  0.54172  0.53083  0.5313   \n",
       "2   3  2016-01-04 01:00:00      18    M1  0.53304  0.53309  0.53116  0.5313   \n",
       "3   4  2016-01-04 01:00:00      18    M5  0.53244  0.53309  0.53116  0.5313   \n",
       "4   5  2016-01-04 01:00:00      18   M15  0.53209  0.53309  0.53116  0.5313   \n",
       "\n",
       "   ind3  ind4   ...    ind241  ind242  ind243  ind244  ind245  ind246  ind247  \\\n",
       "0   3.9  22.6   ...         0       0       0       0       0       0       0   \n",
       "1  58.5   8.9   ...         0       0       0       0       0       0       0   \n",
       "2  17.4  19.3   ...         0       0       0       0       0       0       0   \n",
       "3  11.4  19.3   ...         0       0       0       0       0       0       0   \n",
       "4   7.9  19.3   ...         0       0       0       0       0       0       0   \n",
       "\n",
       "   ind248  ind249  ind250  \n",
       "0       0       0       0  \n",
       "1       0       0       0  \n",
       "2       0       0       0  \n",
       "3       0       0       0  \n",
       "4       0       0       0  \n",
       "\n",
       "[5 rows x 256 columns]"
      ]
     },
     "execution_count": 17,
     "metadata": {},
     "output_type": "execute_result"
    }
   ],
   "source": [
    "df2.head()"
   ]
  },
  {
   "cell_type": "code",
   "execution_count": 26,
   "metadata": {},
   "outputs": [
    {
     "name": "stdout",
     "output_type": "stream",
     "text": [
      "18 2016-01-04 23:51:00 M1\n",
      "18 2016-01-04 23:52:00 M1\n",
      "18 2016-01-04 23:53:00 M1\n",
      "18 2016-01-04 23:54:00 M1\n",
      "18 2016-01-04 23:55:00 M1\n",
      "18 2016-01-04 23:55:00 M5\n",
      "18 2016-01-04 23:56:00 M1\n",
      "18 2016-01-04 23:57:00 M1\n",
      "18 2016-01-04 23:58:00 M1\n",
      "18 2016-01-04 23:59:00 M1\n",
      "15 2016-01-04 00:00:00 M1\n",
      "15 2016-01-04 00:00:00 M5\n",
      "15 2016-01-04 00:00:00 M15\n",
      "15 2016-01-04 00:00:00 M30\n",
      "15 2016-01-04 00:00:00 H1\n",
      "15 2016-01-04 00:00:00 H4\n",
      "15 2016-01-04 00:00:00 D1\n",
      "15 2016-01-04 00:01:00 M1\n",
      "15 2016-01-04 00:02:00 M1\n",
      "15 2016-01-04 00:03:00 M1\n"
     ]
    }
   ],
   "source": [
    "for i in range(len(df2)):\n",
    "    if df2['symbol'][i] != 18 :\n",
    "        for x in range(i-10,i+10):\n",
    "            print(df2['symbol'][x],df2['datetime'][x],df2['categ'][x])\n",
    "        break"
   ]
  },
  {
   "cell_type": "code",
   "execution_count": null,
   "metadata": {
    "collapsed": true
   },
   "outputs": [],
   "source": []
  },
  {
   "cell_type": "code",
   "execution_count": null,
   "metadata": {
    "collapsed": true
   },
   "outputs": [],
   "source": []
  },
  {
   "cell_type": "code",
   "execution_count": null,
   "metadata": {
    "collapsed": true
   },
   "outputs": [],
   "source": []
  },
  {
   "cell_type": "code",
   "execution_count": null,
   "metadata": {
    "collapsed": true
   },
   "outputs": [],
   "source": []
  },
  {
   "cell_type": "code",
   "execution_count": 4,
   "metadata": {},
   "outputs": [
    {
     "name": "stdout",
     "output_type": "stream",
     "text": [
      "['D1' 'H1' 'H4' 'M1' 'M15' 'M30' 'M5']\n",
      "[0, 2, 1, 6, 4, 3, 5]\n"
     ]
    }
   ],
   "source": [
    "df.drop(['id','datetime'], axis=1, inplace=True)\n",
    "print(np.unique(df['categ']))\n",
    "categ_to_id = {\n",
    "    'D1' : 0,\n",
    "    'H4' : 1,\n",
    "    'H1' : 2,\n",
    "    'M30': 3,\n",
    "    'M15': 4,\n",
    "    'M5' : 5,\n",
    "    'M1' : 6\n",
    "}\n",
    "print([categ_to_id[x] for x in np.unique(df['categ'])])"
   ]
  },
  {
   "cell_type": "code",
   "execution_count": 32,
   "metadata": {},
   "outputs": [
    {
     "name": "stdout",
     "output_type": "stream",
     "text": [
      "22\n",
      "(5708, 254)\n",
      "(3803, 254)\n",
      "(3802, 254)\n",
      "(3798, 254)\n",
      "(3804, 254)\n",
      "(3805, 254)\n",
      "(3803, 254)\n",
      "(3804, 254)\n",
      "(5489, 254)\n",
      "(5708, 254)\n",
      "(5696, 254)\n",
      "(5704, 254)\n",
      "(5685, 254)\n",
      "(5707, 254)\n",
      "(5705, 254)\n",
      "(5709, 254)\n",
      "(5708, 254)\n",
      "(5474, 254)\n",
      "(2730, 254)\n",
      "(1822, 254)\n",
      "(3482, 254)\n",
      "(3054, 254)\n"
     ]
    }
   ],
   "source": [
    "data_frames = []\n",
    "df.set_index(keys=['symbol'], drop=False,inplace=True)\n",
    "for i in np.unique(df['symbol']):\n",
    "    data_frames.append(df.loc[df['symbol']==i])\n",
    "print(len(data_frames))\n",
    "for d in data_frames :\n",
    "    print(d.shape)"
   ]
  },
  {
   "cell_type": "code",
   "execution_count": 6,
   "metadata": {},
   "outputs": [
    {
     "name": "stdout",
     "output_type": "stream",
     "text": [
      ">> Preprocessing data : 100000/100000"
     ]
    }
   ],
   "source": [
    "n = len(df[\"categ\"])\n",
    "for i in range(n):\n",
    "    df.iloc[i,1] = categ_to_id[df.iloc[i,1]]\n",
    "    sys.stdout.write(\n",
    "            '\\r>> Preprocessing data : %d/%d' % (i+1,n))\n",
    "    sys.stdout.flush()\n",
    "    "
   ]
  },
  {
   "cell_type": "code",
   "execution_count": 7,
   "metadata": {},
   "outputs": [
    {
     "name": "stdout",
     "output_type": "stream",
     "text": [
      "number of columns is 254\n",
      "columns are :  Index(['symbol', 'categ', 'val', 'ind0', 'ind1', 'ind2', 'ind3', 'ind4',\n",
      "       'ind5', 'ind6',\n",
      "       ...\n",
      "       'ind241', 'ind242', 'ind243', 'ind244', 'ind245', 'ind246', 'ind247',\n",
      "       'ind248', 'ind249', 'ind250'],\n",
      "      dtype='object', length=254)\n"
     ]
    }
   ],
   "source": [
    "cols = df.columns\n",
    "print(\"number of columns is\" , len(cols))\n",
    "print(\"columns are : \",cols)"
   ]
  },
  {
   "cell_type": "code",
   "execution_count": 8,
   "metadata": {},
   "outputs": [
    {
     "data": {
      "text/plain": [
       "array([dtype('int64'), dtype('float64'), dtype('O')], dtype=object)"
      ]
     },
     "execution_count": 8,
     "metadata": {},
     "output_type": "execute_result"
    }
   ],
   "source": [
    "np.unique(df.dtypes)"
   ]
  },
  {
   "cell_type": "code",
   "execution_count": 9,
   "metadata": {},
   "outputs": [
    {
     "data": {
      "text/plain": [
       "(100000, 254)"
      ]
     },
     "execution_count": 9,
     "metadata": {},
     "output_type": "execute_result"
    }
   ],
   "source": [
    "raw_data = df.values\n",
    "raw_data.shape"
   ]
  },
  {
   "cell_type": "markdown",
   "metadata": {},
   "source": [
    "    'D1' : 0,\n",
    "    'H4' : 1,\n",
    "    'H1' : 2,\n",
    "    'M30': 3,\n",
    "    'M15': 4,\n",
    "    'M5' : 5,\n",
    "    'M1' : 6"
   ]
  },
  {
   "cell_type": "code",
   "execution_count": 11,
   "metadata": {},
   "outputs": [
    {
     "data": {
      "text/plain": [
       "[[0, 0, 0], [0, 0, 0]]"
      ]
     },
     "execution_count": 11,
     "metadata": {},
     "output_type": "execute_result"
    }
   ],
   "source": []
  },
  {
   "cell_type": "code",
   "execution_count": null,
   "metadata": {
    "collapsed": true
   },
   "outputs": [],
   "source": [
    "class DatasetLoader: \n",
    "    def __init__(self,raw_data):\n",
    "        self.dataset = []\n",
    "        self.Last_D1 = None\n",
    "        #self.label_D1 = None\n",
    "        self.Last_H4 = None\n",
    "        self.Last_H1 = None\n",
    "        self.Last_M30 = None\n",
    "        self.Last_M15 = None\n",
    "        self.Last_M5 = None\n",
    "        self.Last_M1 = None\n",
    "        self.image = [None]\n",
    "        \n",
    "    def _update_image(self):\n",
    "        self.image = [\n",
    "            self.Last_D1,\n",
    "            self.Last_H4,\n",
    "            self.Last_H1,\n",
    "            self.Last_M30,\n",
    "            self.Last_M15,\n",
    "            self.Last_M5,\n",
    "            self.Last_M1\n",
    "        ]\n",
    "    def _update_label(self):\n",
    "        \n",
    "    def build_dataset(self,data):\n",
    "        for k in  range(len(data)) :\n",
    "            line = data[k]\n",
    "            if line[1] == 0 :\n",
    "                self.Last_D1 = line\n",
    "            elif line[1] == 1 :\n",
    "                self.Last_H4 = line\n",
    "            elif line[1] == 2 :\n",
    "                self.Last_H1 = line\n",
    "            elif line[1] == 3 :\n",
    "                self.Last_M30 = line\n",
    "            elif line[1] == 4 :\n",
    "                self.Last_M15 = line\n",
    "            elif line[1] == 5 :\n",
    "                self.Last_M5 = line\n",
    "            elif line[1] == 6 :\n",
    "                self.Last_M1 = line\n",
    "            else : continue\n",
    "            self._update_image()\n",
    "            if None not in self.image :\n",
    "                self.dataset.append(self.image)\n",
    "            \n",
    "            \n"
   ]
  }
 ],
 "metadata": {
  "kernelspec": {
   "display_name": "Python 3",
   "language": "python",
   "name": "python3"
  },
  "language_info": {
   "codemirror_mode": {
    "name": "ipython",
    "version": 3
   },
   "file_extension": ".py",
   "mimetype": "text/x-python",
   "name": "python",
   "nbconvert_exporter": "python",
   "pygments_lexer": "ipython3",
   "version": "3.5.2"
  }
 },
 "nbformat": 4,
 "nbformat_minor": 2
}
